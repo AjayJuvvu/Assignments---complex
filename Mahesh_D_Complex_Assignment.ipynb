{
 "cells": [
  {
   "cell_type": "code",
   "execution_count": 1,
   "id": "5bfc3176",
   "metadata": {},
   "outputs": [
    {
     "name": "stdout",
     "output_type": "stream",
     "text": [
      "Type=  <class 'complex'>\n",
      "Id of number=  2723102573168\n"
     ]
    }
   ],
   "source": [
    "#Declare a complex number and store it in a variable. \n",
    "\n",
    "num=25+2j\n",
    "\n",
    "#Check the type and print the id of the same.\n",
    "print('Type= ',type(num))\n",
    "print('Id of number= ',id(num))"
   ]
  },
  {
   "cell_type": "code",
   "execution_count": 4,
   "id": "fe56590b",
   "metadata": {},
   "outputs": [
    {
     "name": "stdout",
     "output_type": "stream",
     "text": [
      "(9+7j)\n",
      "(5-1j)\n",
      "(2+34j)\n",
      "(1.3-1.1j)\n",
      "(-10.10962308956316+5.4458211904986795j)\n"
     ]
    }
   ],
   "source": [
    "#Arithmatic Operations on complex number\n",
    "#Take two different complex number.\n",
    "#Store them in two different variables.\n",
    "#Do below operations on them:-\n",
    "    #Find sum of both numbers\n",
    "    #Find differce between them\n",
    "    #Find the product of both numbers.\n",
    "    #Find value after dividing first num with second number\n",
    "    #Find the result of first num to the power of second number.\n",
    "\n",
    "num5=7+3j\n",
    "num6=2+4j\n",
    "\n",
    "print(num5+num6)   #sum\n",
    "print(num5-num6)   #difference\n",
    "print(num5*num6)   #product\n",
    "print(num5/num6)   #divide\n",
    "print(num5**num6)   #power"
   ]
  },
  {
   "cell_type": "code",
   "execution_count": 6,
   "id": "46bda682",
   "metadata": {},
   "outputs": [
    {
     "name": "stdout",
     "output_type": "stream",
     "text": [
      "False\n",
      "True\n"
     ]
    }
   ],
   "source": [
    "#Equality Operator\n",
    "#Take two different complex numbers.\n",
    "#Store them in two different variables.\n",
    "#Equuate them using equality operator (==, !=)\n",
    "#Observe the output(return type should be boolean)\n",
    "\n",
    "num9=1+2j\n",
    "num10=2+3j\n",
    "\n",
    "\n",
    "print(num9 == num10)\n",
    "print(num9 != num10)"
   ]
  },
  {
   "cell_type": "code",
   "execution_count": 8,
   "id": "a5d803df",
   "metadata": {},
   "outputs": [
    {
     "name": "stdout",
     "output_type": "stream",
     "text": [
      "(20+30j)\n",
      "0j\n",
      "0j\n",
      "0j\n",
      "(10+20j)\n",
      "(20+30j)\n",
      "(20+30j)\n",
      "0j\n",
      "False\n",
      "True\n"
     ]
    }
   ],
   "source": [
    "\n",
    "#Logical operators\n",
    "#Observe the output of below code\n",
    "#Cross check the output manually\n",
    "\n",
    "print(10+20j and 20+30j)    #20+30j    \n",
    "print(0+0j and 20+30j)      #0+0j    \n",
    "print(20+30j and 0+0j)      #0+0j   \n",
    "print(0+0j and 0+0j)        #0+0j   \n",
    "\n",
    "print(10+20j or 20+30j)     #10+20j   \n",
    "print(0+0j or 20+30j)       #20+30j   \n",
    "print(20+30j or 0+0j)       #20+30j  \n",
    "print(0+0j or 0+0j)         #0+0j  \n",
    "\n",
    "print(not 10+20j)           #False  \n",
    "print(not 0+0j)             #True   "
   ]
  },
  {
   "cell_type": "code",
   "execution_count": 9,
   "id": "3dc561fe",
   "metadata": {},
   "outputs": [
    {
     "name": "stdout",
     "output_type": "stream",
     "text": [
      "False\n",
      "True\n"
     ]
    }
   ],
   "source": [
    "#What is the output of expression inside print statement. Cross check before running the program.\n",
    "a = 10+20j\n",
    "b = 10+20j\n",
    "print(a is b)       \n",
    "print(a is not b)"
   ]
  },
  {
   "cell_type": "code",
   "execution_count": 10,
   "id": "08caca5a",
   "metadata": {},
   "outputs": [
    {
     "name": "stdout",
     "output_type": "stream",
     "text": [
      "True\n",
      "True\n",
      "True\n",
      "True\n",
      "True\n",
      "True\n"
     ]
    }
   ],
   "source": [
    "#Membership operation\n",
    "#in, not in are two membership operators and it returns boolean value\n",
    "\n",
    "print('2.7' in 'Python2.7.8')                      \n",
    "print(10+20j in [10,10.20,10+20j,'Python'])        \n",
    "print(10+20j in (10,10.20,10+20j,'Python'))        \n",
    "print(30+40j in {1,20.30,30+40j})                  \n",
    "print(30+40j in {1:100, 2.3:200, 30+40j:300})      \n",
    "print(10 in range(20))                             "
   ]
  },
  {
   "cell_type": "code",
   "execution_count": null,
   "id": "647d463b",
   "metadata": {},
   "outputs": [],
   "source": []
  }
 ],
 "metadata": {
  "kernelspec": {
   "display_name": "Python 3",
   "language": "python",
   "name": "python3"
  },
  "language_info": {
   "codemirror_mode": {
    "name": "ipython",
    "version": 3
   },
   "file_extension": ".py",
   "mimetype": "text/x-python",
   "name": "python",
   "nbconvert_exporter": "python",
   "pygments_lexer": "ipython3",
   "version": "3.8.8"
  }
 },
 "nbformat": 4,
 "nbformat_minor": 5
}
