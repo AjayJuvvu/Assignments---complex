{
 "cells": [
  {
   "cell_type": "code",
   "execution_count": 9,
   "id": "c1aeee0f",
   "metadata": {},
   "outputs": [
    {
     "name": "stdout",
     "output_type": "stream",
     "text": [
      "<class 'complex'>\n",
      "2418242086352\n"
     ]
    }
   ],
   "source": [
    "abc = 10 + 8j\n",
    "\n",
    "print(type(abc))\n",
    "print(id(abc))"
   ]
  },
  {
   "cell_type": "code",
   "execution_count": 11,
   "id": "dae6d9d5",
   "metadata": {},
   "outputs": [
    {
     "name": "stdout",
     "output_type": "stream",
     "text": [
      "(10+12j)\n",
      "(10+4j)\n",
      "(-32+40j)\n",
      "(2-2.5j)\n",
      "(-0.04806493349787299-0.047071363482201194j)\n"
     ]
    }
   ],
   "source": [
    "#Arithmatic Operations on complex number\n",
    "\n",
    "abc = 10 + 8j\n",
    "xyz = 4j\n",
    "\n",
    "print(abc + xyz)\n",
    "print(abc - xyz)\n",
    "print(abc * xyz)\n",
    "print(abc / xyz)\n",
    "print(abc ** xyz)"
   ]
  },
  {
   "cell_type": "code",
   "execution_count": 12,
   "id": "5e3852b2",
   "metadata": {},
   "outputs": [
    {
     "name": "stdout",
     "output_type": "stream",
     "text": [
      "False\n",
      "True\n"
     ]
    }
   ],
   "source": [
    "#Equality Operator\n",
    "\n",
    "print(abc == xyz)\n",
    "print(abc != xyz)"
   ]
  },
  {
   "cell_type": "code",
   "execution_count": 14,
   "id": "f4230ff2",
   "metadata": {},
   "outputs": [
    {
     "name": "stdout",
     "output_type": "stream",
     "text": [
      "False\n",
      "True\n"
     ]
    }
   ],
   "source": [
    "a = 10+20j\n",
    "b = 10+20j\n",
    "print(a is b)       \n",
    "print(a is not b)"
   ]
  },
  {
   "cell_type": "code",
   "execution_count": 15,
   "id": "e342ddab",
   "metadata": {},
   "outputs": [
    {
     "name": "stdout",
     "output_type": "stream",
     "text": [
      "True\n",
      "True\n",
      "True\n",
      "True\n",
      "True\n",
      "True\n"
     ]
    }
   ],
   "source": [
    "#Membership operation\n",
    "\n",
    "print('2.7' in 'Python2.7.8')                      \n",
    "print(10+20j in [10,10.20,10+20j,'Python'])        \n",
    "print(10+20j in (10,10.20,10+20j,'Python'))        \n",
    "print(30+40j in {1,20.30,30+40j})                  \n",
    "print(30+40j in {1:100, 2.3:200, 30+40j:300})      \n",
    "print(10 in range(20))                             "
   ]
  },
  {
   "cell_type": "code",
   "execution_count": null,
   "id": "3e7a6cce",
   "metadata": {},
   "outputs": [],
   "source": []
  },
  {
   "cell_type": "code",
   "execution_count": null,
   "id": "9eff291e",
   "metadata": {},
   "outputs": [],
   "source": []
  },
  {
   "cell_type": "code",
   "execution_count": null,
   "id": "f065578b",
   "metadata": {},
   "outputs": [],
   "source": []
  },
  {
   "cell_type": "code",
   "execution_count": null,
   "id": "ebbd4810",
   "metadata": {},
   "outputs": [],
   "source": []
  },
  {
   "cell_type": "code",
   "execution_count": null,
   "id": "415139c7",
   "metadata": {},
   "outputs": [],
   "source": []
  },
  {
   "cell_type": "code",
   "execution_count": null,
   "id": "6be62571",
   "metadata": {},
   "outputs": [],
   "source": []
  },
  {
   "cell_type": "code",
   "execution_count": null,
   "id": "fe39e621",
   "metadata": {},
   "outputs": [],
   "source": []
  },
  {
   "cell_type": "code",
   "execution_count": null,
   "id": "bb3c421e",
   "metadata": {},
   "outputs": [],
   "source": []
  },
  {
   "cell_type": "code",
   "execution_count": null,
   "id": "6e8a63c1",
   "metadata": {},
   "outputs": [],
   "source": []
  },
  {
   "cell_type": "code",
   "execution_count": null,
   "id": "c9fba97e",
   "metadata": {},
   "outputs": [],
   "source": []
  },
  {
   "cell_type": "code",
   "execution_count": null,
   "id": "7a30962f",
   "metadata": {},
   "outputs": [],
   "source": []
  },
  {
   "cell_type": "code",
   "execution_count": null,
   "id": "4d1435d2",
   "metadata": {},
   "outputs": [],
   "source": []
  },
  {
   "cell_type": "code",
   "execution_count": null,
   "id": "8fc42c96",
   "metadata": {},
   "outputs": [],
   "source": []
  }
 ],
 "metadata": {
  "kernelspec": {
   "display_name": "Python 3",
   "language": "python",
   "name": "python3"
  },
  "language_info": {
   "codemirror_mode": {
    "name": "ipython",
    "version": 3
   },
   "file_extension": ".py",
   "mimetype": "text/x-python",
   "name": "python",
   "nbconvert_exporter": "python",
   "pygments_lexer": "ipython3",
   "version": "3.8.8"
  }
 },
 "nbformat": 4,
 "nbformat_minor": 5
}
