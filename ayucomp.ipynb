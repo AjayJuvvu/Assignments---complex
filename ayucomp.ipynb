{
 "cells": [
  {
   "cell_type": "code",
   "execution_count": 2,
   "id": "773f3857",
   "metadata": {},
   "outputs": [
    {
     "name": "stdout",
     "output_type": "stream",
     "text": [
      "<class 'complex'>\n",
      "2416889930736\n"
     ]
    }
   ],
   "source": [
    "x=2+3j\n",
    "print(type(x))\n",
    "print(id(x))"
   ]
  },
  {
   "cell_type": "code",
   "execution_count": 3,
   "id": "ff9511b3",
   "metadata": {},
   "outputs": [
    {
     "name": "stdout",
     "output_type": "stream",
     "text": [
      "(7+9j)\n",
      "(-1-1j)\n",
      "(-8+31j)\n",
      "(0.7804878048780489+0.02439024390243905j)\n",
      "(-5.617850428047809-4.641644620594996j)\n"
     ]
    }
   ],
   "source": [
    "#Arithmetic Operations on complex number\n",
    "x=3+4j\n",
    "y=4+5j\n",
    "print(x+y) #Find sum of both numbers\n",
    "print(x-y) #Find differce between them\n",
    "print(x*y) #Find the product of both numbers.\n",
    "print(x/y)#Find value after dividing first num with second number\n",
    "print(y**x) #Find the result of first num to the power of second number."
   ]
  },
  {
   "cell_type": "code",
   "execution_count": 4,
   "id": "47bbbd97",
   "metadata": {},
   "outputs": [
    {
     "name": "stdout",
     "output_type": "stream",
     "text": [
      "False\n",
      "True\n"
     ]
    }
   ],
   "source": [
    "#Equality Operator\n",
    "x=3+4j\n",
    "y=9+4j\n",
    "print(x==y)\n",
    "print(x!=y)\n"
   ]
  },
  {
   "cell_type": "code",
   "execution_count": 5,
   "id": "be856975",
   "metadata": {},
   "outputs": [
    {
     "name": "stdout",
     "output_type": "stream",
     "text": [
      "(20+30j)\n",
      "0j\n",
      "0j\n",
      "0j\n",
      "(10+20j)\n",
      "(20+30j)\n",
      "(20+30j)\n",
      "0j\n",
      "False\n",
      "True\n"
     ]
    }
   ],
   "source": [
    "#Logical operators\n",
    "\n",
    "\n",
    "print(10+20j and 20+30j) #20+30j\n",
    "print(0+0j and 20+30j)  #0+0j \n",
    "print(20+30j and 0+0j)  #0+0j  \n",
    "print(0+0j and 0+0j)    #0+0j \n",
    "\n",
    "print(10+20j or 20+30j) #10+20j \n",
    "print(0+0j or 20+30j)   #20+30j   \n",
    "print(20+30j or 0+0j)   #20+30j\n",
    "print(0+0j or 0+0j)     #0+0j\n",
    "\n",
    "print(not 10+20j)#False\n",
    "print(not 0+0j)  #True\n"
   ]
  },
  {
   "cell_type": "code",
   "execution_count": 6,
   "id": "4c62b02d",
   "metadata": {},
   "outputs": [
    {
     "name": "stdout",
     "output_type": "stream",
     "text": [
      "False\n",
      "True\n"
     ]
    }
   ],
   "source": [
    "a = 10+20j\n",
    "b = 10+20j\n",
    "print(a is b)       #False\n",
    "print(a is not b)   #True"
   ]
  },
  {
   "cell_type": "code",
   "execution_count": 7,
   "id": "504f8227",
   "metadata": {},
   "outputs": [
    {
     "name": "stdout",
     "output_type": "stream",
     "text": [
      "True\n",
      "True\n",
      "True\n",
      "True\n",
      "True\n",
      "True\n"
     ]
    }
   ],
   "source": [
    "#Membership operation\n",
    "\n",
    "\n",
    "print('2.7' in 'Python2.7.8')  #True\n",
    "print(10+20j in [10,10.20,10+20j,'Python']) #True\n",
    "print(10+20j in (10,10.20,10+20j,'Python')) #True\n",
    "print(30+40j in {1,20.30,30+40j})    #True\n",
    "print(30+40j in {1:100, 2.3:200, 30+40j:300})#True\n",
    "print(10 in range(20)) #True"
   ]
  }
 ],
 "metadata": {
  "kernelspec": {
   "display_name": "Python 3",
   "language": "python",
   "name": "python3"
  },
  "language_info": {
   "codemirror_mode": {
    "name": "ipython",
    "version": 3
   },
   "file_extension": ".py",
   "mimetype": "text/x-python",
   "name": "python",
   "nbconvert_exporter": "python",
   "pygments_lexer": "ipython3",
   "version": "3.8.8"
  }
 },
 "nbformat": 4,
 "nbformat_minor": 5
}
